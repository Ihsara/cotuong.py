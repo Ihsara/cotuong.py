{
 "cells": [
  {
   "cell_type": "code",
   "execution_count": 1,
   "metadata": {},
   "outputs": [],
   "source": [
    "w = 'w' \n",
    "b = 'b'\n",
    "advisor = 'a'\n",
    "cannon = 'c'\n",
    "elephant = 'e'\n",
    "general = 'g'\n",
    "horse = 'h'\n",
    "pawn = 'p'\n",
    "rock = 'r'\n",
    "\n",
    "start_coords = {\n",
    "    w: {\n",
    "        advisor: [104,106],\n",
    "        cannon: [82, 88],\n",
    "        elephant: [103,107],\n",
    "        general: [105],\n",
    "        horse: [102,108],\n",
    "        pawn: [71, 73, 75, 77, 79],\n",
    "        rock: [101,109]\n",
    "    },\n",
    "    b: {\n",
    "        advisor: [14, 16],\n",
    "        cannon: [32,38],\n",
    "        elephant: [13,17],\n",
    "        general: [15],\n",
    "        horse: [12, 18],\n",
    "        pawn: [41,43,45,47,49],\n",
    "        rock: [11,19]\n",
    "    }    \n",
    "}\n",
    "\n",
    "start_coords_2 = {\n",
    "        'A': [104,106],\n",
    "        'C': [82, 88],\n",
    "        'E': [103,107],\n",
    "        'G': [105],\n",
    "        'H': [102,108],\n",
    "        'P': [71, 73, 75, 77, 79],\n",
    "        'R': [101,109], \n",
    "        'a': [14, 16],\n",
    "        'c': [32,38],\n",
    "        'e': [13,17],\n",
    "        'g': [15],\n",
    "        'h': [12, 18],\n",
    "        'p': [41,43,45,47,49],\n",
    "        'r': [11,19]  \n",
    "}\n",
    "\n",
    "board_matrix= [\n",
    "                    [  0,  1,  2,  3,  4,  5,  6,  7,  8,  9,  10],\n",
    "                    [ 10, 11, 12, 13, 14, 15, 16, 17, 18, 19, 110],\n",
    "                    [ 20, 21, 22, 23, 24, 25, 26, 27, 28, 29, 210],\n",
    "                    [ 30, 31, 32, 33, 34, 35, 36, 37, 38, 39, 310],\n",
    "                    [ 40, 41, 42, 43, 44, 45, 46, 47, 48, 49, 410],\n",
    "                    [ 50, 51, 52, 53, 54, 55, 56, 57, 58, 59, 510],\n",
    "                    [ 60, 61, 62, 63, 64, 65, 66, 67, 68, 69, 610],\n",
    "                    [ 70, 71, 72, 73, 74, 75, 76, 77, 78, 79, 710],\n",
    "                    [ 80, 81, 82, 83, 84, 85, 86, 87, 88, 89, 810],\n",
    "                    [ 90, 91, 92, 93, 94, 95, 96, 97, 98, 99, 910],\n",
    "                    [100,101,102,103,104,105,106,107,108,109,1010],\n",
    "                    [110,111,112,113,114,115,116,117,118,119,1110]\n",
    "                ]"
   ]
  },
  {
   "cell_type": "code",
   "execution_count": 2,
   "metadata": {},
   "outputs": [],
   "source": [
    "from IPython.display import clear_output, HTML, display\n",
    "from copy import deepcopy\n",
    "\n",
    "class Game: \n",
    "    def __init__(self):       \n",
    "        self.SYMBOLS = 'aceghprACEGHPR'\n",
    "        self.ALLOWED_MOVE_ORDER = '.-/'\n",
    "        self.EMPTY = ' '\n",
    "        self.BORDER = \"|\"\n",
    "        self.nex_move = 'w'\n",
    "        self.board_matrix = deepcopy(board_matrix)\n",
    "        self.start_coords = deepcopy(start_coords_2)\n",
    "        self.game_state = []\n",
    "        \n",
    "    def new_game(self):\n",
    "        self.game_state = deepcopy(self.start_coords)\n",
    "        self.next_move = 'w'\n",
    "        return self.game_state\n",
    "    \n",
    "    def _translate_move(self, move): #move is a string 'H2.4' means horse 2 move forth to 4 \n",
    "        if move[0].islower() and self.next_move == 'w':\n",
    "            translated_move = self._translate_move_red(move)\n",
    "        elif move[0].isupper() and self.next_move == 'b':\n",
    "            translated_move = self._translate_move_black(move)\n",
    "        else: raise ValueError('Move cannot be proccessed!')\n",
    "            \n",
    "    def _translate_move_red(self, move):\n",
    "        pass \n",
    "    \n",
    "    def _translate_move_black(self,move):\n",
    "        pass\n",
    "    \n",
    "    def _update_move(self):\n",
    "        pass \n",
    "            \n",
    "    def verify(self, move): \n",
    "        return len(move) == 4 and move[0] in self.SYMBOLS and move[2] in self.ALLOWED_MOVE_ORDER and 1 <= int(move[1]) <= 9 and 1 <= int(move[3]) <= 9 \n",
    "    \n",
    "    def _make_border_show(self, board):\n",
    "        for i in range(1,len(board[0])): \n",
    "            if i < len(board[0])-1:\n",
    "                board[0][i] = str(i)\n",
    "                board[11][i] = str(len(board[0]) -1- i)\n",
    "            board[i][0] = str(i)\n",
    "            board[i][10] = str(i)\n",
    "        return board \n",
    "    \n",
    "    def _make_empty_space_show(self, board): \n",
    "        for i in range(12): \n",
    "            for j in range(11):\n",
    "                if isinstance(board[i][j], int): \n",
    "                    board[i][j] = self.EMPTY\n",
    "        return board\n",
    "            \n",
    "    def _make_board(self): \n",
    "        board = deepcopy(self.board_matrix)\n",
    "        board = self._make_border_show(board) \n",
    "        for piece in self.game_state: \n",
    "            for val in self.game_state[piece]:\n",
    "                board[val//10][val%10] = piece \n",
    "        board = self._make_empty_space_show(board)\n",
    "        return board\n",
    "    \n",
    "    def display_board(self):\n",
    "        self.board= self._make_board()\n",
    "        clear_output() \n",
    "        display(HTML(\n",
    "           '<div class=\"container\" style=\"white-space: nowrap;\"> <table style=\"width:40%;float:left\"><tr>{0}</tr></table></div>'.format(\n",
    "               '</tr><tr>'.join(\n",
    "                   '<td>{}</td>'.format('</td><td>'.join(str(_) for _ in row)) for row in self.board)\n",
    "               )  \n",
    "        ))\n",
    "    \n",
    "    def play(self): \n",
    "        order = 'null'\n",
    "        self.new_game() \n",
    "        \n",
    "        while order[0] != 'pause':            \n",
    "            self.display_board() \n",
    "            order = input('Next move: ').split(' ')\n",
    "            if order[0]== 'pause':\n",
    "                break\n",
    "            print('Order recieved: {0} move to {2} from {1}'.format(order[0], order[1], order[2]))\n",
    "            if len(order) == 3: \n",
    "                self.game_state[order[0]] = [int(order[2]) if i== int(order[1]) else i for i in self.game_state[order[0]] ]            \n",
    "            else: print('Unknown order')"
   ]
  },
  {
   "cell_type": "code",
   "execution_count": 3,
   "metadata": {},
   "outputs": [
    {
     "data": {
      "text/html": [
       "<div class=\"container\" style=\"white-space: nowrap;\"> <table style=\"width:40%;float:left\"><tr><td> </td><td>1</td><td>2</td><td>3</td><td>4</td><td>5</td><td>6</td><td>7</td><td>8</td><td>9</td><td> </td></tr><tr><td>1</td><td>r</td><td>h</td><td>e</td><td>a</td><td>g</td><td>a</td><td>e</td><td>h</td><td>r</td><td>1</td></tr><tr><td>2</td><td> </td><td> </td><td> </td><td> </td><td> </td><td> </td><td> </td><td> </td><td> </td><td>2</td></tr><tr><td>3</td><td> </td><td>c</td><td> </td><td> </td><td> </td><td> </td><td> </td><td>c</td><td> </td><td>3</td></tr><tr><td>4</td><td>p</td><td> </td><td>p</td><td> </td><td>p</td><td> </td><td>p</td><td> </td><td>p</td><td>4</td></tr><tr><td>5</td><td> </td><td> </td><td> </td><td> </td><td> </td><td> </td><td> </td><td> </td><td> </td><td>5</td></tr><tr><td>6</td><td> </td><td> </td><td> </td><td> </td><td> </td><td> </td><td> </td><td> </td><td> </td><td>6</td></tr><tr><td>7</td><td>P</td><td> </td><td>P</td><td> </td><td>P</td><td> </td><td>P</td><td> </td><td>P</td><td>7</td></tr><tr><td>8</td><td> </td><td>C</td><td> </td><td> </td><td> </td><td> </td><td> </td><td>C</td><td> </td><td>8</td></tr><tr><td>9</td><td> </td><td> </td><td> </td><td> </td><td> </td><td> </td><td> </td><td> </td><td> </td><td>9</td></tr><tr><td>10</td><td>R</td><td>H</td><td>E</td><td>A</td><td>G</td><td>A</td><td>E</td><td>H</td><td>R</td><td>10</td></tr><tr><td> </td><td>9</td><td>8</td><td>7</td><td>6</td><td>5</td><td>4</td><td>3</td><td>2</td><td>1</td><td> </td></tr></table></div>"
      ],
      "text/plain": [
       "<IPython.core.display.HTML object>"
      ]
     },
     "metadata": {},
     "output_type": "display_data"
    }
   ],
   "source": [
    "game = Game() \n",
    "game.new_game()\n",
    "game.display_board()\n"
   ]
  },
  {
   "cell_type": "code",
   "execution_count": null,
   "metadata": {},
   "outputs": [
    {
     "data": {
      "text/html": [
       "<div class=\"container\" style=\"white-space: nowrap;\"> <table style=\"width:40%;float:left\"><tr><td> </td><td>1</td><td>2</td><td>3</td><td>4</td><td>5</td><td>6</td><td>7</td><td>8</td><td>9</td><td> </td></tr><tr><td>1</td><td>r</td><td>h</td><td>e</td><td>a</td><td>g</td><td>a</td><td>e</td><td>h</td><td>r</td><td>1</td></tr><tr><td>2</td><td> </td><td> </td><td> </td><td> </td><td> </td><td> </td><td> </td><td> </td><td> </td><td>2</td></tr><tr><td>3</td><td> </td><td>c</td><td> </td><td> </td><td> </td><td> </td><td> </td><td>c</td><td> </td><td>3</td></tr><tr><td>4</td><td>p</td><td> </td><td>p</td><td> </td><td>p</td><td> </td><td>p</td><td> </td><td>p</td><td>4</td></tr><tr><td>5</td><td> </td><td> </td><td> </td><td> </td><td> </td><td> </td><td> </td><td> </td><td> </td><td>5</td></tr><tr><td>6</td><td> </td><td> </td><td> </td><td> </td><td> </td><td> </td><td> </td><td> </td><td> </td><td>6</td></tr><tr><td>7</td><td>P</td><td> </td><td>P</td><td> </td><td>P</td><td> </td><td>P</td><td> </td><td>P</td><td>7</td></tr><tr><td>8</td><td> </td><td>C</td><td> </td><td> </td><td> </td><td> </td><td> </td><td>C</td><td> </td><td>8</td></tr><tr><td>9</td><td> </td><td> </td><td> </td><td> </td><td> </td><td> </td><td> </td><td> </td><td> </td><td>9</td></tr><tr><td>10</td><td>R</td><td>H</td><td>E</td><td>A</td><td>G</td><td>A</td><td>E</td><td>H</td><td>R</td><td>10</td></tr><tr><td> </td><td>9</td><td>8</td><td>7</td><td>6</td><td>5</td><td>4</td><td>3</td><td>2</td><td>1</td><td> </td></tr></table></div>"
      ],
      "text/plain": [
       "<IPython.core.display.HTML object>"
      ]
     },
     "metadata": {},
     "output_type": "display_data"
    }
   ],
   "source": [
    "game.play()"
   ]
  },
  {
   "cell_type": "code",
   "execution_count": 5,
   "metadata": {},
   "outputs": [
    {
     "data": {
      "text/plain": [
       "{'A': [104, 106],\n",
       " 'C': [82, 85],\n",
       " 'E': [103, 107],\n",
       " 'G': [105],\n",
       " 'H': [102, 108],\n",
       " 'P': [71, 73, 75, 77, 79],\n",
       " 'R': [101, 109],\n",
       " 'a': [14, 16],\n",
       " 'c': [32, 38],\n",
       " 'e': [13, 17],\n",
       " 'g': [15],\n",
       " 'h': [12, 18],\n",
       " 'p': [41, 43, 45, 47, 49],\n",
       " 'r': [11, 19]}"
      ]
     },
     "execution_count": 5,
     "metadata": {},
     "output_type": "execute_result"
    }
   ],
   "source": [
    "game.game_state"
   ]
  },
  {
   "cell_type": "code",
   "execution_count": 3,
   "metadata": {},
   "outputs": [
    {
     "name": "stdout",
     "output_type": "stream",
     "text": [
      "move: pause\n",
      "pause\n"
     ]
    }
   ],
   "source": [
    "a = input('move: ').split(' ')\n",
    "print(a[0])"
   ]
  },
  {
   "cell_type": "code",
   "execution_count": 3,
   "metadata": {},
   "outputs": [],
   "source": [
    "class FirstClass(object):\n",
    "  def hi(self):\n",
    "    print('Hello!')\n",
    "\n",
    "class SecondClass(object):\n",
    "  def hi(self):\n",
    "    print('Bonjour!')\n",
    "\n",
    "class FinalClass(SecondClass, FirstClass):\n",
    "  pass"
   ]
  },
  {
   "cell_type": "code",
   "execution_count": 4,
   "metadata": {},
   "outputs": [
    {
     "name": "stdout",
     "output_type": "stream",
     "text": [
      "Bonjour!\n"
     ]
    }
   ],
   "source": [
    "FinalClass().hi()"
   ]
  },
  {
   "cell_type": "code",
   "execution_count": 5,
   "metadata": {},
   "outputs": [
    {
     "name": "stdout",
     "output_type": "stream",
     "text": [
      "someError has occured\n"
     ]
    }
   ],
   "source": [
    "try:\n",
    "    if 1 == True:\n",
    "        raise ValueError(\"someError\")\n",
    "    else:\n",
    "        print(\"someError has not occured\")\n",
    "except ValueError:\n",
    "    print(\"someError has occured\")"
   ]
  },
  {
   "cell_type": "code",
   "execution_count": 6,
   "metadata": {},
   "outputs": [
    {
     "data": {
      "text/plain": [
       "True"
      ]
     },
     "execution_count": 6,
     "metadata": {},
     "output_type": "execute_result"
    }
   ],
   "source": [
    "1 == True"
   ]
  },
  {
   "cell_type": "code",
   "execution_count": 13,
   "metadata": {},
   "outputs": [
    {
     "data": {
      "text/plain": [
       "[4, 6]"
      ]
     },
     "execution_count": 13,
     "metadata": {},
     "output_type": "execute_result"
    }
   ],
   "source": [
    "list1 = [1, 4, 5, 6, 9]\n",
    "list (filter(lambda item: item % 2 == 0, list1))"
   ]
  },
  {
   "cell_type": "code",
   "execution_count": 11,
   "metadata": {},
   "outputs": [
    {
     "data": {
      "text/plain": [
       "<filter at 0x20e19ae89b0>"
      ]
     },
     "execution_count": 11,
     "metadata": {},
     "output_type": "execute_result"
    }
   ],
   "source": [
    "a\n"
   ]
  },
  {
   "cell_type": "code",
   "execution_count": 11,
   "metadata": {},
   "outputs": [],
   "source": [
    "for i in [11 + i for i in range(9)] :\n",
    "    for j in range(0,100, 10):\n",
    "        if j+ i == 111: \n",
    "            print(i,j)"
   ]
  },
  {
   "cell_type": "code",
   "execution_count": null,
   "metadata": {},
   "outputs": [],
   "source": []
  },
  {
   "cell_type": "code",
   "execution_count": null,
   "metadata": {},
   "outputs": [],
   "source": []
  }
 ],
 "metadata": {
  "kernelspec": {
   "display_name": "Python 3",
   "language": "python",
   "name": "python3"
  },
  "language_info": {
   "codemirror_mode": {
    "name": "ipython",
    "version": 3
   },
   "file_extension": ".py",
   "mimetype": "text/x-python",
   "name": "python",
   "nbconvert_exporter": "python",
   "pygments_lexer": "ipython3",
   "version": "3.6.7"
  }
 },
 "nbformat": 4,
 "nbformat_minor": 2
}
